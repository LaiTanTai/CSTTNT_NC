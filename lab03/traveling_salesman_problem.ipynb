{
  "cells": [
    {
      "cell_type": "markdown",
      "metadata": {
        "id": "qIu4V-LUikEy"
      },
      "source": [
        "# Solving the Traveling Salesman  Problem using Local Search\n",
        "\n",
        "Points: 10"
      ]
    },
    {
      "cell_type": "markdown",
      "metadata": {
        "id": "-Vdb6hb4ikE0"
      },
      "source": [
        "## The [Traveling Salesman Problem](https://en.wikipedia.org/wiki/Travelling_salesman_problem)\n",
        "\n",
        "* __Goal:__ Find the shortest tour visiting each of $n$ cities exactly once and returning back to the starting city. Given are pairwise distances between cities, where $d_{i,j}$ is the distance from city $i$ to city $j$.\n",
        "\n",
        "* __State space:__ Each state represents a tour. The cities are numbered and a tour can be expressed as vector  $\\pi$ with the order in which the cities are visited (a [permutation](https://en.wikipedia.org/wiki/Permutation)). That is, $\\pi(1)$ is the index of the first city to visit, $\\pi(2)$ the index of the second, and so on.\n",
        "\n",
        "* __Objective function:__ Minimize the tour length. The optimization problem is to find the optimal tour $\\pi^*$ through the $n$ cities and returning to the starting city:\n",
        "\n",
        "  > minimize: $\\mathrm{tourlength}(\\pi) = d_{\\pi(n),\\pi(1)} + \\sum_{i = 1}^{n-1} d_{\\pi(i),\\pi(i+1)}$\n",
        "  >\n",
        "  > subject to: $\\pi \\ \\text{is a valid permutation vector}$\n",
        "\n",
        "* __Local moves:__ Exchange two cities in the order."
      ]
    },
    {
      "cell_type": "markdown",
      "metadata": {
        "id": "2vZr7CUMikE1"
      },
      "source": [
        "## Helper functions"
      ]
    },
    {
      "cell_type": "code",
      "execution_count": 2,
      "metadata": {
        "id": "YCXNFduRikE1"
      },
      "outputs": [],
      "source": [
        "import numpy as np\n",
        "import pandas as pd\n",
        "import matplotlib.pyplot as plt\n",
        "import math\n",
        "import random\n",
        "\n",
        "np.set_printoptions(precision=2)\n",
        "pd.set_option('display.precision', 2)\n",
        "\n",
        "# make the results repeatable\n",
        "np.random.seed(1234)"
      ]
    },
    {
      "cell_type": "code",
      "execution_count": 3,
      "metadata": {
        "colab": {
          "base_uri": "https://localhost:8080/"
        },
        "id": "GdEv5LT9ikE2",
        "outputId": "26c32972-9818-40d3-c674-e72326a09166"
      },
      "outputs": [
        {
          "data": {
            "text/plain": [
              "[2, 1, 6, 0, 7, 4, 3, 9, 5, 8]"
            ]
          },
          "execution_count": 3,
          "metadata": {},
          "output_type": "execute_result"
        }
      ],
      "source": [
        "def random_tour(n):\n",
        "    \"\"\"Create a random tour\"\"\"\n",
        "\n",
        "    tour = list(range(n))\n",
        "    random.shuffle(tour)\n",
        "    return(tour)\n",
        "\n",
        "random_tour(10)"
      ]
    },
    {
      "cell_type": "code",
      "execution_count": 4,
      "metadata": {
        "colab": {
          "base_uri": "https://localhost:8080/"
        },
        "id": "JbT25qDNikE2",
        "outputId": "f846e04a-015c-4249-9149-45980efa90f3",
        "scrolled": true
      },
      "outputs": [
        {
          "name": "stdout",
          "output_type": "stream",
          "text": [
            "Positions:\n",
            "      x     y\n",
            "0  0.19  0.36\n",
            "1  0.62  0.50\n",
            "2  0.44  0.68\n",
            "3  0.79  0.71\n",
            "4  0.78  0.37\n",
            "5  0.27  0.56\n",
            "6  0.28  0.50\n",
            "7  0.80  0.01\n",
            "8  0.96  0.77\n",
            "9  0.88  0.88\n",
            "Distance matrix:\n",
            "      0     1     2     3     4     5     6     7     8     9\n",
            "0  0.00  0.45  0.41  0.69  0.59  0.22  0.17  0.70  0.87  0.86\n",
            "1  0.45  0.00  0.26  0.27  0.20  0.35  0.35  0.52  0.43  0.46\n",
            "2  0.41  0.26  0.00  0.35  0.46  0.21  0.24  0.76  0.53  0.48\n",
            "3  0.69  0.27  0.35  0.00  0.34  0.53  0.55  0.70  0.18  0.19\n",
            "4  0.59  0.20  0.46  0.34  0.00  0.54  0.52  0.36  0.44  0.52\n",
            "5  0.22  0.35  0.21  0.53  0.54  0.00  0.06  0.76  0.72  0.68\n",
            "6  0.17  0.35  0.24  0.55  0.52  0.06  0.00  0.72  0.73  0.71\n",
            "7  0.70  0.52  0.76  0.70  0.36  0.76  0.72  0.00  0.77  0.87\n",
            "8  0.87  0.43  0.53  0.18  0.44  0.72  0.73  0.77  0.00  0.14\n",
            "9  0.86  0.46  0.48  0.19  0.52  0.68  0.71  0.87  0.14  0.00)\n"
          ]
        }
      ],
      "source": [
        "from scipy.spatial.distance import pdist\n",
        "from scipy.spatial.distance import squareform\n",
        "\n",
        "def random_tsp(n):\n",
        "    \"\"\"\n",
        "    Create a random (Euclidean) traveling salesman problem. Choose n points randomly in a 1 x 1 unit square and calulates a\n",
        "    pairwise Euclidean distance matrix.\n",
        "    \"\"\"\n",
        "\n",
        "    pos = pd.DataFrame({\n",
        "        \"x\" : np.random.uniform(size = n),\n",
        "        \"y\" : np.random.uniform(size = n)\n",
        "    })\n",
        "\n",
        "    dist = squareform(pdist(pos))\n",
        "\n",
        "    return({\"pos\": pos, \"dist\": dist})\n",
        "\n",
        "tsp = random_tsp(10)\n",
        "\n",
        "print(f\"Positions:\\n{tsp['pos']}\")\n",
        "print(f\"Distance matrix:\\n{pd.DataFrame(tsp['dist'])})\")"
      ]
    },
    {
      "cell_type": "code",
      "execution_count": 5,
      "metadata": {
        "colab": {
          "base_uri": "https://localhost:8080/"
        },
        "id": "BlHOW5oPikE2",
        "outputId": "614a2e86-903d-49cd-e9fa-3afbd75957b1"
      },
      "outputs": [
        {
          "data": {
            "text/plain": [
              "4.755216713744649"
            ]
          },
          "execution_count": 5,
          "metadata": {},
          "output_type": "execute_result"
        }
      ],
      "source": [
        "def tour_length(tsp, tour):\n",
        "    \"\"\"Caclulate the length of a tour, i.e., the objective function.\"\"\"\n",
        "\n",
        "    # make sure tour is a Python list (not an array or a numpy.array)\n",
        "    if not isinstance(tour, list): tour = tour.tolist()\n",
        "\n",
        "    tl = 0\n",
        "    dist = tsp[\"dist\"]\n",
        "\n",
        "    for i in range(len(tour)-1):\n",
        "        tl += dist[tour[i], tour[i+1]]\n",
        "\n",
        "    tl += dist[tour[-1], tour[0]]\n",
        "\n",
        "    return(tl)\n",
        "\n",
        "tour = random_tour(10)\n",
        "tour_length(tsp, tour)"
      ]
    },
    {
      "cell_type": "code",
      "execution_count": 6,
      "metadata": {
        "colab": {
          "base_uri": "https://localhost:8080/",
          "height": 448
        },
        "id": "DrFWAdyrikE3",
        "outputId": "af63ad64-f6be-4b99-9e51-b5ad3694d821",
        "scrolled": true
      },
      "outputs": [
        {
          "name": "stdout",
          "output_type": "stream",
          "text": [
            "Tour length: 4.76\n"
          ]
        },
        {
          "data": {
            "image/png": "[encoded data removed]",
            "text/plain": [
              "<Figure size 432x288 with 1 Axes>"
            ]
          },
          "metadata": {
            "needs_background": "light"
          },
          "output_type": "display_data"
        }
      ],
      "source": [
        "def show_tsp(tsp, tour = None):\n",
        "    \"\"\"display the traveling salesman problem and a tour.\"\"\"\n",
        "\n",
        "    pos = tsp[\"pos\"]\n",
        "\n",
        "    plt.scatter(pos[\"x\"], pos[\"y\"])\n",
        "\n",
        "    if tour is not None:\n",
        "        # make sure tour is a Python list (not an array or a numpy.array)\n",
        "        if not isinstance(tour, list): tour = tour.tolist()\n",
        "\n",
        "        print(f\"Tour length: {round(tour_length(tsp, tour), 2)}\")\n",
        "\n",
        "        pos_ = pos.reindex(tour)\n",
        "        pos_ = pd.concat([pos_, pos_.head(1)])\n",
        "        plt.plot(pos_[\"x\"], pos_[\"y\"])\n",
        "\n",
        "    plt.show()\n",
        "\n",
        "show_tsp(tsp, tour)"
      ]
    },
    {
      "cell_type": "markdown",
      "metadata": {
        "id": "pcp7UCzeikE3"
      },
      "source": [
        "## Use R to find a solution\n",
        "\n",
        "Load rpy2, make sure the R [TSP package](https://CRAN.R-project.org/package=TSP) is installed and prepare the distance matrix."
      ]
    },
    {
      "cell_type": "code",
      "execution_count": 7,
      "metadata": {
        "id": "wcaml9-0ikE3"
      },
      "outputs": [
        {
          "ename": "ModuleNotFoundError",
          "evalue": "No module named 'rpy2'",
          "output_type": "error",
          "traceback": [
            "\u001b[1;31m---------------------------------------------------------------------------\u001b[0m",
            "\u001b[1;31mModuleNotFoundError\u001b[0m                       Traceback (most recent call last)",
            "Cell \u001b[1;32mIn[7], line 1\u001b[0m\n\u001b[1;32m----> 1\u001b[0m \u001b[43mget_ipython\u001b[49m\u001b[43m(\u001b[49m\u001b[43m)\u001b[49m\u001b[38;5;241;43m.\u001b[39;49m\u001b[43mrun_line_magic\u001b[49m\u001b[43m(\u001b[49m\u001b[38;5;124;43m'\u001b[39;49m\u001b[38;5;124;43mload_ext\u001b[39;49m\u001b[38;5;124;43m'\u001b[39;49m\u001b[43m,\u001b[49m\u001b[43m \u001b[49m\u001b[38;5;124;43m'\u001b[39;49m\u001b[38;5;124;43mrpy2.ipython\u001b[39;49m\u001b[38;5;124;43m'\u001b[39;49m\u001b[43m)\u001b[49m\n\u001b[0;32m      3\u001b[0m get_ipython()\u001b[38;5;241m.\u001b[39mrun_line_magic(\u001b[38;5;124m'\u001b[39m\u001b[38;5;124mR\u001b[39m\u001b[38;5;124m'\u001b[39m, \u001b[38;5;124m'\u001b[39m\u001b[38;5;124mif(!\u001b[39m\u001b[38;5;124m\"\u001b[39m\u001b[38;5;124mTSP\u001b[39m\u001b[38;5;124m\"\u001b[39m\u001b[38;5;124m \u001b[39m\u001b[38;5;132;01m%i\u001b[39;00m\u001b[38;5;124mn\u001b[39m\u001b[38;5;132;01m% r\u001b[39;00m\u001b[38;5;124mownames(installed.packages())) install.packages(\u001b[39m\u001b[38;5;124m\"\u001b[39m\u001b[38;5;124mTSP\u001b[39m\u001b[38;5;124m\"\u001b[39m\u001b[38;5;124m, repos=\u001b[39m\u001b[38;5;124m\"\u001b[39m\u001b[38;5;124mhttp://cran.us.r-project.org\u001b[39m\u001b[38;5;124m\"\u001b[39m\u001b[38;5;124m)\u001b[39m\u001b[38;5;124m'\u001b[39m)\n\u001b[0;32m      4\u001b[0m get_ipython()\u001b[38;5;241m.\u001b[39mrun_line_magic(\u001b[38;5;124m'\u001b[39m\u001b[38;5;124mR\u001b[39m\u001b[38;5;124m'\u001b[39m, \u001b[38;5;124m'\u001b[39m\u001b[38;5;124mif(!\u001b[39m\u001b[38;5;124m\"\u001b[39m\u001b[38;5;124mmicrobenchmark\u001b[39m\u001b[38;5;124m\"\u001b[39m\u001b[38;5;124m \u001b[39m\u001b[38;5;132;01m%i\u001b[39;00m\u001b[38;5;124mn\u001b[39m\u001b[38;5;132;01m% r\u001b[39;00m\u001b[38;5;124mownames(installed.packages())) install.packages(\u001b[39m\u001b[38;5;124m\"\u001b[39m\u001b[38;5;124mmicrobenchmark\u001b[39m\u001b[38;5;124m\"\u001b[39m\u001b[38;5;124m, repos=\u001b[39m\u001b[38;5;124m\"\u001b[39m\u001b[38;5;124mhttp://cran.us.r-project.org\u001b[39m\u001b[38;5;124m\"\u001b[39m\u001b[38;5;124m)\u001b[39m\u001b[38;5;124m'\u001b[39m)\n",
            "File \u001b[1;32m~\\AppData\\Roaming\\Python\\Python312\\site-packages\\IPython\\core\\interactiveshell.py:2480\u001b[0m, in \u001b[0;36mInteractiveShell.run_line_magic\u001b[1;34m(self, magic_name, line, _stack_depth)\u001b[0m\n\u001b[0;32m   2478\u001b[0m     kwargs[\u001b[38;5;124m'\u001b[39m\u001b[38;5;124mlocal_ns\u001b[39m\u001b[38;5;124m'\u001b[39m] \u001b[38;5;241m=\u001b[39m \u001b[38;5;28mself\u001b[39m\u001b[38;5;241m.\u001b[39mget_local_scope(stack_depth)\n\u001b[0;32m   2479\u001b[0m \u001b[38;5;28;01mwith\u001b[39;00m \u001b[38;5;28mself\u001b[39m\u001b[38;5;241m.\u001b[39mbuiltin_trap:\n\u001b[1;32m-> 2480\u001b[0m     result \u001b[38;5;241m=\u001b[39m \u001b[43mfn\u001b[49m\u001b[43m(\u001b[49m\u001b[38;5;241;43m*\u001b[39;49m\u001b[43margs\u001b[49m\u001b[43m,\u001b[49m\u001b[43m \u001b[49m\u001b[38;5;241;43m*\u001b[39;49m\u001b[38;5;241;43m*\u001b[39;49m\u001b[43mkwargs\u001b[49m\u001b[43m)\u001b[49m\n\u001b[0;32m   2482\u001b[0m \u001b[38;5;66;03m# The code below prevents the output from being displayed\u001b[39;00m\n\u001b[0;32m   2483\u001b[0m \u001b[38;5;66;03m# when using magics with decorator @output_can_be_silenced\u001b[39;00m\n\u001b[0;32m   2484\u001b[0m \u001b[38;5;66;03m# when the last Python token in the expression is a ';'.\u001b[39;00m\n\u001b[0;32m   2485\u001b[0m \u001b[38;5;28;01mif\u001b[39;00m \u001b[38;5;28mgetattr\u001b[39m(fn, magic\u001b[38;5;241m.\u001b[39mMAGIC_OUTPUT_CAN_BE_SILENCED, \u001b[38;5;28;01mFalse\u001b[39;00m):\n",
            "File \u001b[1;32m~\\AppData\\Roaming\\Python\\Python312\\site-packages\\IPython\\core\\magics\\extension.py:33\u001b[0m, in \u001b[0;36mExtensionMagics.load_ext\u001b[1;34m(self, module_str)\u001b[0m\n\u001b[0;32m     31\u001b[0m \u001b[38;5;28;01mif\u001b[39;00m \u001b[38;5;129;01mnot\u001b[39;00m module_str:\n\u001b[0;32m     32\u001b[0m     \u001b[38;5;28;01mraise\u001b[39;00m UsageError(\u001b[38;5;124m'\u001b[39m\u001b[38;5;124mMissing module name.\u001b[39m\u001b[38;5;124m'\u001b[39m)\n\u001b[1;32m---> 33\u001b[0m res \u001b[38;5;241m=\u001b[39m \u001b[38;5;28;43mself\u001b[39;49m\u001b[38;5;241;43m.\u001b[39;49m\u001b[43mshell\u001b[49m\u001b[38;5;241;43m.\u001b[39;49m\u001b[43mextension_manager\u001b[49m\u001b[38;5;241;43m.\u001b[39;49m\u001b[43mload_extension\u001b[49m\u001b[43m(\u001b[49m\u001b[43mmodule_str\u001b[49m\u001b[43m)\u001b[49m\n\u001b[0;32m     35\u001b[0m \u001b[38;5;28;01mif\u001b[39;00m res \u001b[38;5;241m==\u001b[39m \u001b[38;5;124m'\u001b[39m\u001b[38;5;124malready loaded\u001b[39m\u001b[38;5;124m'\u001b[39m:\n\u001b[0;32m     36\u001b[0m     \u001b[38;5;28mprint\u001b[39m(\u001b[38;5;124m\"\u001b[39m\u001b[38;5;124mThe \u001b[39m\u001b[38;5;132;01m%s\u001b[39;00m\u001b[38;5;124m extension is already loaded. To reload it, use:\u001b[39m\u001b[38;5;124m\"\u001b[39m \u001b[38;5;241m%\u001b[39m module_str)\n",
            "File \u001b[1;32m~\\AppData\\Roaming\\Python\\Python312\\site-packages\\IPython\\core\\extensions.py:62\u001b[0m, in \u001b[0;36mExtensionManager.load_extension\u001b[1;34m(self, module_str)\u001b[0m\n\u001b[0;32m     55\u001b[0m \u001b[38;5;250m\u001b[39m\u001b[38;5;124;03m\"\"\"Load an IPython extension by its module name.\u001b[39;00m\n\u001b[0;32m     56\u001b[0m \n\u001b[0;32m     57\u001b[0m \u001b[38;5;124;03mReturns the string \"already loaded\" if the extension is already loaded,\u001b[39;00m\n\u001b[0;32m     58\u001b[0m \u001b[38;5;124;03m\"no load function\" if the module doesn't have a load_ipython_extension\u001b[39;00m\n\u001b[0;32m     59\u001b[0m \u001b[38;5;124;03mfunction, or None if it succeeded.\u001b[39;00m\n\u001b[0;32m     60\u001b[0m \u001b[38;5;124;03m\"\"\"\u001b[39;00m\n\u001b[0;32m     61\u001b[0m \u001b[38;5;28;01mtry\u001b[39;00m:\n\u001b[1;32m---> 62\u001b[0m     \u001b[38;5;28;01mreturn\u001b[39;00m \u001b[38;5;28;43mself\u001b[39;49m\u001b[38;5;241;43m.\u001b[39;49m\u001b[43m_load_extension\u001b[49m\u001b[43m(\u001b[49m\u001b[43mmodule_str\u001b[49m\u001b[43m)\u001b[49m\n\u001b[0;32m     63\u001b[0m \u001b[38;5;28;01mexcept\u001b[39;00m \u001b[38;5;167;01mModuleNotFoundError\u001b[39;00m:\n\u001b[0;32m     64\u001b[0m     \u001b[38;5;28;01mif\u001b[39;00m module_str \u001b[38;5;129;01min\u001b[39;00m BUILTINS_EXTS:\n",
            "File \u001b[1;32m~\\AppData\\Roaming\\Python\\Python312\\site-packages\\IPython\\core\\extensions.py:77\u001b[0m, in \u001b[0;36mExtensionManager._load_extension\u001b[1;34m(self, module_str)\u001b[0m\n\u001b[0;32m     75\u001b[0m \u001b[38;5;28;01mwith\u001b[39;00m \u001b[38;5;28mself\u001b[39m\u001b[38;5;241m.\u001b[39mshell\u001b[38;5;241m.\u001b[39mbuiltin_trap:\n\u001b[0;32m     76\u001b[0m     \u001b[38;5;28;01mif\u001b[39;00m module_str \u001b[38;5;129;01mnot\u001b[39;00m \u001b[38;5;129;01min\u001b[39;00m sys\u001b[38;5;241m.\u001b[39mmodules:\n\u001b[1;32m---> 77\u001b[0m         mod \u001b[38;5;241m=\u001b[39m \u001b[43mimport_module\u001b[49m\u001b[43m(\u001b[49m\u001b[43mmodule_str\u001b[49m\u001b[43m)\u001b[49m\n\u001b[0;32m     78\u001b[0m     mod \u001b[38;5;241m=\u001b[39m sys\u001b[38;5;241m.\u001b[39mmodules[module_str]\n\u001b[0;32m     79\u001b[0m     \u001b[38;5;28;01mif\u001b[39;00m \u001b[38;5;28mself\u001b[39m\u001b[38;5;241m.\u001b[39m_call_load_ipython_extension(mod):\n",
            "File \u001b[1;32mc:\\Users\\USER\\AppData\\Local\\Programs\\Python\\Python312\\Lib\\importlib\\__init__.py:90\u001b[0m, in \u001b[0;36mimport_module\u001b[1;34m(name, package)\u001b[0m\n\u001b[0;32m     88\u001b[0m             \u001b[38;5;28;01mbreak\u001b[39;00m\n\u001b[0;32m     89\u001b[0m         level \u001b[38;5;241m+\u001b[39m\u001b[38;5;241m=\u001b[39m \u001b[38;5;241m1\u001b[39m\n\u001b[1;32m---> 90\u001b[0m \u001b[38;5;28;01mreturn\u001b[39;00m \u001b[43m_bootstrap\u001b[49m\u001b[38;5;241;43m.\u001b[39;49m\u001b[43m_gcd_import\u001b[49m\u001b[43m(\u001b[49m\u001b[43mname\u001b[49m\u001b[43m[\u001b[49m\u001b[43mlevel\u001b[49m\u001b[43m:\u001b[49m\u001b[43m]\u001b[49m\u001b[43m,\u001b[49m\u001b[43m \u001b[49m\u001b[43mpackage\u001b[49m\u001b[43m,\u001b[49m\u001b[43m \u001b[49m\u001b[43mlevel\u001b[49m\u001b[43m)\u001b[49m\n",
            "File \u001b[1;32m<frozen importlib._bootstrap>:1387\u001b[0m, in \u001b[0;36m_gcd_import\u001b[1;34m(name, package, level)\u001b[0m\n",
            "File \u001b[1;32m<frozen importlib._bootstrap>:1360\u001b[0m, in \u001b[0;36m_find_and_load\u001b[1;34m(name, import_)\u001b[0m\n",
            "File \u001b[1;32m<frozen importlib._bootstrap>:1310\u001b[0m, in \u001b[0;36m_find_and_load_unlocked\u001b[1;34m(name, import_)\u001b[0m\n",
            "File \u001b[1;32m<frozen importlib._bootstrap>:488\u001b[0m, in \u001b[0;36m_call_with_frames_removed\u001b[1;34m(f, *args, **kwds)\u001b[0m\n",
            "File \u001b[1;32m<frozen importlib._bootstrap>:1387\u001b[0m, in \u001b[0;36m_gcd_import\u001b[1;34m(name, package, level)\u001b[0m\n",
            "File \u001b[1;32m<frozen importlib._bootstrap>:1360\u001b[0m, in \u001b[0;36m_find_and_load\u001b[1;34m(name, import_)\u001b[0m\n",
            "File \u001b[1;32m<frozen importlib._bootstrap>:1324\u001b[0m, in \u001b[0;36m_find_and_load_unlocked\u001b[1;34m(name, import_)\u001b[0m\n",
            "\u001b[1;31mModuleNotFoundError\u001b[0m: No module named 'rpy2'"
          ]
        }
      ],
      "source": [
        "%load_ext rpy2.ipython\n",
        "\n",
        "%R if(!\"TSP\" %in% rownames(installed.packages())) install.packages(\"TSP\", repos=\"http://cran.us.r-project.org\")\n",
        "%R if(!\"microbenchmark\" %in% rownames(installed.packages())) install.packages(\"microbenchmark\", repos=\"http://cran.us.r-project.org\")\n",
        "\n",
        "d = tsp[\"dist\"]"
      ]
    },
    {
      "cell_type": "markdown",
      "metadata": {
        "id": "egGhpCC5ikE3"
      },
      "source": [
        "Solve the TSP using [`solve_TSP`](https://www.rdocumentation.org/packages/TSP/versions/1.1-10/topics/solve_TSP) with the default heuristic. Note that 2-opt is steepest ascend hill climbing with exchanging two cities. `rep=100` means 100 random restarts."
      ]
    },
    {
      "cell_type": "code",
      "execution_count": null,
      "metadata": {
        "colab": {
          "base_uri": "https://localhost:8080/",
          "height": 143
        },
        "id": "QeLdXIjLikE3",
        "outputId": "764f3e08-403e-4387-8b0d-6b2e4c86300c"
      },
      "outputs": [
        {
          "name": "stdout",
          "output_type": "stream",
          "text": [
            "object of class ‘TSP’ \n",
            "10 cities (distance ‘unknown’) \n",
            "object of class ‘TOUR’ \n",
            "result of method ‘arbitrary_insertion+two_opt_rep_100’ for 10 cities\n",
            "tour length: 2.763574 \n"
          ]
        },
        {
          "data": {
            "text/plain": [
              "In addition: Warning message:\n",
              "executing %dopar% sequentially: no parallel backend registered \n"
            ]
          },
          "metadata": {},
          "output_type": "display_data"
        }
      ],
      "source": [
        "%%R -i d -o tour\n",
        "\n",
        "library(\"TSP\")\n",
        "\n",
        "tsp <- TSP(d)\n",
        "print(tsp)\n",
        "\n",
        "tour <- solve_TSP(tsp, rep = 100)\n",
        "print(tour)\n",
        "\n",
        "# R starts index with 1, but Python starts at 0\n",
        "tour <- tour - 1L"
      ]
    },
    {
      "cell_type": "code",
      "execution_count": 7,
      "metadata": {
        "colab": {
          "base_uri": "https://localhost:8080/",
          "height": 448
        },
        "id": "etKsY8OgikE4",
        "outputId": "443688e5-7d6e-42e0-8d6e-80a8289cdcea",
        "scrolled": true
      },
      "outputs": [
        {
          "name": "stdout",
          "output_type": "stream",
          "text": [
            "Tour length: 4.76\n"
          ]
        },
        {
          "data": {
            "image/png": "[encoded data removed]",
            "text/plain": [
              "<Figure size 432x288 with 1 Axes>"
            ]
          },
          "metadata": {
            "needs_background": "light"
          },
          "output_type": "display_data"
        }
      ],
      "source": [
        "show_tsp(tsp, tour)"
      ]
    },
    {
      "cell_type": "markdown",
      "metadata": {
        "id": "Jfw6wsdZikE4"
      },
      "source": [
        "How long does it take to solve the problem 100 times?"
      ]
    },
    {
      "cell_type": "code",
      "execution_count": null,
      "metadata": {
        "colab": {
          "base_uri": "https://localhost:8080/"
        },
        "id": "tP7g_RVHikE4",
        "outputId": "36313e6d-79a4-4c7b-91b6-edb0ff0666a2"
      },
      "outputs": [
        {
          "name": "stdout",
          "output_type": "stream",
          "text": [
            "Unit: microseconds\n",
            "          expr   min      lq     mean   median     uq     max neval\n",
            " tsp <- TSP(d) 328.1 341.549 362.3728 350.1065 362.36 801.209   100\n"
          ]
        }
      ],
      "source": [
        "%%R -i d\n",
        "\n",
        "library(\"microbenchmark\")\n",
        "\n",
        "microbenchmark(tsp <- TSP(d))"
      ]
    },
    {
      "cell_type": "markdown",
      "metadata": {
        "id": "kEz4qEjDikE4"
      },
      "source": [
        "## Steepest-ascend Hill Climbing Search [3 Points]\n",
        "\n",
        "Calculate the objective function for all local moves (move each queen within its column) and always choose the best among all local moves."
      ]
    },
    {
      "cell_type": "code",
      "execution_count": 8,
      "metadata": {
        "id": "9HtOY43PC8UT"
      },
      "outputs": [],
      "source": [
        "tsp = random_tsp(10)"
      ]
    },
    {
      "cell_type": "code",
      "execution_count": 9,
      "metadata": {
        "colab": {
          "base_uri": "https://localhost:8080/"
        },
        "id": "UMqVlKW9ikE4",
        "outputId": "cc730650-94bc-4ea6-b601-591b6cd3bb8c",
        "scrolled": false
      },
      "outputs": [
        {
          "name": "stdout",
          "output_type": "stream",
          "text": [
            "[9, 7, 4, 5, 1, 6, 3, 8, 2, 0] 2.6662811984340724\n",
            "Tour length: 2.67\n"
          ]
        },
        {
          "data": {
            "image/png": "[encoded data removed]",
            "text/plain": [
              "<Figure size 432x288 with 1 Axes>"
            ]
          },
          "metadata": {
            "needs_background": "light"
          },
          "output_type": "display_data"
        }
      ],
      "source": [
        "# Code goes here\n",
        "# permutation tour\n",
        "def move_swap(tour):\n",
        "    new = tour.copy()\n",
        "    a,b = np.random.randint(0,len(tour),2)\n",
        "    new[a], new[b] = new[b], new[a]\n",
        "    return new\n",
        "\n",
        "def move_swap_neighbors(tour):\n",
        "    new_tour = tour.copy()\n",
        "    a = np.random.randint(0, len(tour)-1)\n",
        "    if a > 0: b = a+1\n",
        "    else: b = len(tour)-1\n",
        "    new_tour[a] = tour[b]\n",
        "    new_tour[b] = tour[a]\n",
        "    return(new_tour)\n",
        "def move_reverse(tour):\n",
        "    new_tour = tour.copy()\n",
        "    ab = np.random.randint(0, len(tour)+1, 2)\n",
        "    ab.sort()\n",
        "    new_tour[ab[0]:ab[1]] = new_tour[ab[0]:ab[1]][::-1]\n",
        "    return(new_tour)\n",
        "\n",
        "\n",
        "def steepest_ascent(tsp, tour, method_swap, num_neighbors=1000):\n",
        "    current_length = tour_length(tsp, tour)\n",
        "    while True:\n",
        "        best_tour = tour\n",
        "        best_length = current_length\n",
        "        for i in range(num_neighbors):\n",
        "            new_tour = method_swap(tour)\n",
        "            new_length = tour_length(tsp, new_tour)\n",
        "            if new_length < best_length:\n",
        "                best_tour = new_tour\n",
        "                best_length = new_length\n",
        "        if best_length < current_length:\n",
        "            tour = best_tour\n",
        "            current_length = best_length\n",
        "        else:\n",
        "            break\n",
        "    return tour, current_length\n",
        "\n",
        "new_tour = random_tour(10)\n",
        "current_length =  tour_length(tsp,new_tour)\n",
        "new_tour,current_length = steepest_ascent(tsp, new_tour, move_reverse)\n",
        "\n",
        "print(new_tour,current_length)\n",
        "show_tsp(tsp, new_tour)"
      ]
    },
    {
      "cell_type": "markdown",
      "metadata": {
        "id": "mRgB57aaikE4"
      },
      "source": [
        "## Steepest-ascend Hill Climbing Search with Random Restarts [1 Point]\n",
        "\n",
        "Steepest-ascend with random restarts."
      ]
    },
    {
      "cell_type": "code",
      "execution_count": 10,
      "metadata": {
        "id": "XA-Vq2UvikE4",
        "scrolled": false
      },
      "outputs": [
        {
          "name": "stdout",
          "output_type": "stream",
          "text": [
            "[5, 4, 7, 9, 0, 2, 8, 3, 6, 1]\n",
            "Tour length: 2.67\n"
          ]
        },
        {
          "data": {
            "image/png": "[encoded data removed]",
            "text/plain": [
              "<Figure size 432x288 with 1 Axes>"
            ]
          },
          "metadata": {
            "needs_background": "light"
          },
          "output_type": "display_data"
        }
      ],
      "source": [
        "# Code goes here\n",
        "def steepest_ascent_with_random_restart(tsp, num_restarts=10):\n",
        "    best_tour = None\n",
        "    best_length = float('inf')\n",
        "    for r in range(num_restarts):\n",
        "        tour = random_tour(len(tsp['dist']))\n",
        "        tour, length = steepest_ascent(tsp, tour, move_reverse, num_neighbors=500)\n",
        "        if length < best_length:\n",
        "            best_tour, best_length = tour, length\n",
        "    return best_tour, best_length\n",
        "\n",
        "best_tour_2, best_length_2 = steepest_ascent_with_random_restart(tsp, num_restarts=10)\n",
        "print(best_tour_2)\n",
        "show_tsp(tsp, best_tour_2)"
      ]
    },
    {
      "cell_type": "markdown",
      "metadata": {
        "id": "oVeRNGEXikE4"
      },
      "source": [
        "## Stochastic Hill Climbing [1 Points]\n",
        "\n",
        "Chooses randomly from among all uphill moves."
      ]
    },
    {
      "cell_type": "code",
      "execution_count": 11,
      "metadata": {
        "id": "uV0ZAyBHikE4"
      },
      "outputs": [
        {
          "name": "stdout",
          "output_type": "stream",
          "text": [
            "[3, 6, 1, 5, 4, 7, 9, 0, 2, 8] 2.6662811984340724\n",
            "Tour length: 2.67\n"
          ]
        },
        {
          "data": {
            "image/png": "[encoded data removed]",
            "text/plain": [
              "<Figure size 432x288 with 1 Axes>"
            ]
          },
          "metadata": {
            "needs_background": "light"
          },
          "output_type": "display_data"
        }
      ],
      "source": [
        "# Code goes here\n",
        "def stochastic_hill_climbing(tsp, tour, method_swap=move_reverse, max_steps=1000):\n",
        "    best_tour = tour\n",
        "    current_length = tour_length(tsp, tour)\n",
        "\n",
        "    for step in range(max_steps):\n",
        "        new_tour = method_swap(best_tour)  \n",
        "        new_length = tour_length(tsp, new_tour)\n",
        "\n",
        "\n",
        "        if new_length < current_length:\n",
        "            best_tour = new_tour\n",
        "            current_length = new_length\n",
        "\n",
        "    return best_tour, current_length\n",
        "best_tour, best_length = stochastic_hill_climbing(tsp, random_tour(10), method_swap=move_reverse, max_steps=1000)\n",
        "print(best_tour, best_length)\n",
        "show_tsp(tsp, best_tour)"
      ]
    },
    {
      "cell_type": "markdown",
      "metadata": {
        "id": "GH_GsWpeikE4"
      },
      "source": [
        "## First-choice Hill Climbing [1 Point]\n",
        "\n",
        "First-choice hill climbing is a type of stochastic hill climbing that generates one random local neighbor at a time and accept it if it has a better objective function value than the current state."
      ]
    },
    {
      "cell_type": "code",
      "execution_count": 12,
      "metadata": {
        "id": "QDHHtxThikE4"
      },
      "outputs": [],
      "source": [
        "# Code goes here\n",
        "import numpy as np\n",
        "\n",
        "def swap2neighbour(tour):\n",
        "    tour_copy = tour.copy() # copy 1 tour tạm để sử dụng\n",
        "\n",
        "    i, j = np.random.randint(0, len(tour), 2) # random 2 thành phố trong khoảng từ [0, 10)\n",
        "\n",
        "    tour_copy[i], tour_copy[j] = tour_copy[j], tour_copy[i] # đổi chỗ 2 thành phố\n",
        "\n",
        "    return tour_copy\n",
        "\n",
        "def FCHC(tsp, tour, max_steps = 100000, stop_after = 1000):\n",
        "    current_tour_length = tour_length(tsp, tour) # tính toán độ dài của tour hiện tại\n",
        "    history = [(0, current_tour_length)] # được dùng để theo dõi các bước cập nhật\n",
        "    last_update = 0 # bước cập nhật cuối cùng\n",
        "\n",
        "    for step in range(max_steps):\n",
        "        new_tour = swap2neighbour(tour) # sinh ra tour mới\n",
        "        new_tour_length = tour_length(tsp, new_tour) # tính độ dài của tour mới\n",
        "\n",
        "        if new_tour_length < current_tour_length: # nếu độ dài tour mới < độ dài tour cũ thì cập nhật lại tour và độ dài của tour\n",
        "            tour = new_tour\n",
        "            current_tour_length = new_tour_length\n",
        "            last_update = step\n",
        "            history.append((step, current_tour_length))\n",
        "\n",
        "        if step - last_update > stop_after: # dừng lại sau stop_after bước không cập nhật được tour mới\n",
        "            history.append((step, current_tour_length))\n",
        "            break\n",
        "\n",
        "    return tour, history\n",
        "\n",
        "FCHC_tour_result, FCHC_history = FCHC(tsp, tour)\n"
      ]
    },
    {
      "cell_type": "code",
      "execution_count": 13,
      "metadata": {},
      "outputs": [
        {
          "name": "stdout",
          "output_type": "stream",
          "text": [
            "Tour length: 2.79\n"
          ]
        },
        {
          "data": {
            "image/png": "[encoded data removed]",
            "text/plain": [
              "<Figure size 432x288 with 1 Axes>"
            ]
          },
          "metadata": {
            "needs_background": "light"
          },
          "output_type": "display_data"
        },
        {
          "name": "stdout",
          "output_type": "stream",
          "text": [
            "Tour:  8 3 6 1 4 7 5 9 0 2\n",
            "Initial tour length: 4.940258540385276\n",
            "Step: 0, length: 4.3986468950664\n",
            "Step: 3, length: 4.347020864211891\n",
            "Step: 9, length: 4.03546971191052\n",
            "Step: 12, length: 4.024087102530929\n",
            "Step: 13, length: 3.8777507152886757\n",
            "Step: 15, length: 3.8294886292525603\n",
            "Step: 18, length: 3.533089150232419\n",
            "Step: 32, length: 3.2513368735483494\n",
            "Step: 50, length: 3.2490853065176477\n",
            "Step: 74, length: 2.873700107357932\n",
            "Step: 97, length: 2.7888853412939145\n",
            "Final step before stop: 1098, length: 2.7888853412939145\n"
          ]
        }
      ],
      "source": [
        "show_tsp(tsp, FCHC_tour_result)\n",
        "print(\"Tour: \", *FCHC_tour_result)\n",
        "print(f\"Initial tour length: {FCHC_history[0][1]}\")\n",
        "for step, length in FCHC_history[1:-1]:\n",
        "    print(f\"Step: {step}, length: {length}\")\n",
        "print(f\"Final step before stop: {FCHC_history[-1][0]}, length: {FCHC_history[-1][1]}\")"
      ]
    },
    {
      "cell_type": "markdown",
      "metadata": {
        "id": "zZa-0q-4ikE4"
      },
      "source": [
        "## Simulated Annealing [2 Points]"
      ]
    },
    {
      "cell_type": "code",
      "execution_count": 14,
      "metadata": {
        "id": "BJkijnUnikE4"
      },
      "outputs": [],
      "source": [
        "# Code goes here\n",
        "def move_reverse(tour): # sinh trạng thái kế tiếp theo cách 2-opt\n",
        "    tour_copy = tour.copy()\n",
        "    i, j = np.random.randint(0, len(tour), 2)\n",
        "    if i > j:\n",
        "        i, j = j, i\n",
        "    tour_copy[i:j+1] = tour_copy[i: j+1][::-1]\n",
        "    return tour_copy\n",
        "\n",
        "def SA(tsp, tour, max_steps = 100000):\n",
        "    current_tour_length = tour_length(tsp, tour) # tính toán độ dài của tour hiện tại\n",
        "    history = [(0, current_tour_length)] # được dùng để theo dõi các bước cập nhật\n",
        "    T = T0 = 1000 # Cập nhật lại T theo T = T0 * alpha^k với k là số bước lặp\n",
        "    alpha = 0.999 # hệ số giảm\n",
        "    for step in range(max_steps):\n",
        "        new_tour = move_reverse(tour) # sinh ra tour mới\n",
        "        new_tour_length = tour_length(tsp, new_tour) # tính độ dài của tour mới\n",
        "\n",
        "        dentaE = new_tour_length - current_tour_length # dentaE = newE - oldE\n",
        "\n",
        "        if dentaE < 0:\n",
        "            current_tour_length = new_tour_length\n",
        "            tour = new_tour\n",
        "            history.append((step, current_tour_length))\n",
        "        else:\n",
        "            P = np.exp(-dentaE/T) # P = e^(-dentaE/T)\n",
        "            r = np.random.rand()\n",
        "            if r < P:\n",
        "                current_tour_length = new_tour_length\n",
        "                tour = new_tour\n",
        "                history.append((step, current_tour_length))\n",
        "\n",
        "        T = T0 * (alpha ** step) # T = T0 * alpha^step\n",
        "    return tour, history\n",
        "\n",
        "SA_tour_result, SA_history = SA(tsp, tour)\n"
      ]
    },
    {
      "cell_type": "code",
      "execution_count": 15,
      "metadata": {},
      "outputs": [
        {
          "name": "stdout",
          "output_type": "stream",
          "text": [
            "Tour length: 2.67\n"
          ]
        },
        {
          "data": {
            "image/png": "[encoded data removed]",
            "text/plain": [
              "<Figure size 432x288 with 1 Axes>"
            ]
          },
          "metadata": {
            "needs_background": "light"
          },
          "output_type": "display_data"
        },
        {
          "name": "stdout",
          "output_type": "stream",
          "text": [
            "Tour:  6 3 8 2 0 9 7 4 5 1\n",
            "Initial tour length: 4.940258540385276\n",
            "Final step before stop: 99995, length: 2.6662811984340724\n"
          ]
        }
      ],
      "source": [
        "show_tsp(tsp, SA_tour_result)\n",
        "print(\"Tour: \", *SA_tour_result)\n",
        "print(f\"Initial tour length: {SA_history[0][1]}\")\n",
        "# for step, length in SA_history[1:-1]:\n",
        "#     print(f\"Step: {step}, length: {length}\")\n",
        "print(f\"Final step before stop: {SA_history[-1][0]}, length: {SA_history[-1][1]}\")"
      ]
    },
    {
      "cell_type": "markdown",
      "metadata": {
        "id": "uBN8icZeikE4"
      },
      "source": [
        "## Compare Performance [2 Points]\n",
        "\n",
        "Use runtime, scalability (number of cities), and best objective function value to compare the algorithms on boards of different sizes.  \n",
        "\n",
        "For timing you can use the `time` package."
      ]
    },
    {
      "cell_type": "code",
      "execution_count": null,
      "metadata": {
        "colab": {
          "base_uri": "https://localhost:8080/"
        },
        "id": "EVio3WLGikE4",
        "outputId": "919584bc-627a-438f-e649-96bccf4c039f"
      },
      "outputs": [
        {
          "name": "stdout",
          "output_type": "stream",
          "text": [
            "Do something\n",
            "This took: 1.058340072631836 milliseconds\n"
          ]
        }
      ],
      "source": [
        "import time\n",
        "\n",
        "t0 = time.time()\n",
        "print(\"Do something\")\n",
        "t1 = time.time()\n",
        "\n",
        "print(f\"This took: {(t1-t0) * 1e3} milliseconds\")"
      ]
    },
    {
      "cell_type": "code",
      "execution_count": 16,
      "metadata": {
        "id": "CdgpB0YRikE4"
      },
      "outputs": [
        {
          "name": "stdout",
          "output_type": "stream",
          "text": [
            "First-choice hill climbing took: 14.783382415771484 milliseconds\n",
            "Simulated Annealing took: 907.71484375 milliseconds\n",
            "Steepest ascent took: 7.247209548950195 milliseconds\n",
            "Steepest ascent with random restart took: 255.3243637084961 milliseconds\n",
            "Stochastic hill climbing took: 8.61215591430664 milliseconds\n"
          ]
        }
      ],
      "source": [
        "# Code and results go here\n",
        "import time\n",
        "\n",
        "t0 = time.time()\n",
        "FCHC(tsp, tour)\n",
        "t1 = time.time()\n",
        "SA(tsp, tour)\n",
        "t2 = time.time()\n",
        "steepest_ascent(tsp, new_tour, move_reverse)\n",
        "t3 = time.time()\n",
        "steepest_ascent_with_random_restart(tsp, num_restarts=10)\n",
        "t4 = time.time()\n",
        "stochastic_hill_climbing(tsp, random_tour(10), method_swap=move_reverse, max_steps=1000)\n",
        "t5 = time.time()\n",
        "print(f\"First-choice hill climbing took: {(t1-t0) * 1e3} milliseconds\")\n",
        "print(f\"Simulated Annealing took: {(t2-t1) * 1e3} milliseconds\")\n",
        "print(f\"Steepest ascent took: {(t3-t2) * 1e3} milliseconds\")\n",
        "print(f\"Steepest ascent with random restart took: {(t4-t3) * 1e3} milliseconds\")\n",
        "print(f\"Stochastic hill climbing took: {(t5-t4) * 1e3} milliseconds\")\n"
      ]
    },
    {
      "cell_type": "markdown",
      "metadata": {
        "id": "vN9ppg7mikE5"
      },
      "source": [
        "## Bonus: Genetic Algorithm [+1 Point]"
      ]
    },
    {
      "cell_type": "code",
      "execution_count": null,
      "metadata": {
        "id": "qdyUL7tRikE5"
      },
      "outputs": [],
      "source": [
        "# Code goes here"
      ]
    }
  ],
  "metadata": {
    "colab": {
      "provenance": []
    },
    "kernelspec": {
      "display_name": "Python 3",
      "language": "python",
      "name": "python3"
    },
    "language_info": {
      "codemirror_mode": {
        "name": "ipython",
        "version": 3
      },
      "file_extension": ".py",
      "mimetype": "text/x-python",
      "name": "python",
      "nbconvert_exporter": "python",
      "pygments_lexer": "ipython3",
      "version": "3.8.10"
    }
  },
  "nbformat": 4,
  "nbformat_minor": 0
}
