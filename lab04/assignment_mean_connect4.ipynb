{
 "cells": [
  {
   "cell_type": "markdown",
   "metadata": {},
   "source": [
    "# Adversarial Search: Playing \"Mean\" Connect 4\n",
    "\n",
    "\n",
    "## Instructions\n",
    "\n",
    "Total Points: Undegraduates 10, graduate students 11\n",
    "\n",
    "Complete this notebook and submit it. The notebook needs to be a complete project report with your implementation, documentation including a short discussion of how your implementation works and your design choices, and experimental results (e.g., tables and charts with simulation results) with a short discussion of what they mean. Use the provided notebook cells and insert additional code and markdown cells as needed.\n",
    "\n",
    "## Introduction\n",
    "\n",
    "You will implement different versions of agents that play \"Mean\" Connect 4:\n",
    "\n",
    "> \"Connect 4 is a two-player connection board game, in which the players choose a color and then take turns dropping colored discs into a seven-column, six-row vertically suspended grid. The pieces fall straight down, occupying the lowest available space within the column. The objective of the game is to be the first to form a horizontal, vertical, or diagonal line of four of one's own discs.\" (see [Connect Four on Wikipedia](https://en.wikipedia.org/wiki/Connect_Four))\n",
    "\n",
    "> **The mean part:** This game has an additional rule. Every time it is a player's turn, the player can decide to instead of playing a new disk, take a bottom row disk of the opponent and place it in any column. All disks above the removed disk will fall down one position. Note that a player can only move an _opponent's disc_ that is in the _bottom row_ of the board.\n",
    "\n",
    "Note that normal [Connect-4 has been solved](https://en.wikipedia.org/wiki/Connect_Four#Mathematical_solution)\n",
    "in 1988. A connect-4 solver with a discussion of how to solve different parts of the problem can be found here: https://connect4.gamesolver.org/en/"
   ]
  },
  {
   "cell_type": "markdown",
   "metadata": {},
   "source": [
    "## Task 1: Defining the Search Problem [1 point]\n",
    "\n",
    "Define the components of the search problem associated with this game:\n",
    "\n",
    "* Initial state\n",
    "* Actions\n",
    "* Transition model\n",
    "* Test for the terminal state\n",
    "* Utility for terminal states"
   ]
  },
  {
   "cell_type": "code",
   "execution_count": 1,
   "metadata": {},
   "outputs": [],
   "source": [
    "# Your code/answer goes here.\n"
   ]
  },
  {
   "cell_type": "markdown",
   "metadata": {},
   "source": [
    "### Answer\n",
    "1. Trạng thái ban đầu (Initial State): Là một bảng rỗng kích thước 6x7 (mặc định), tất cả các ô đều bằng 0\n",
    "- Người chơi MAX được ký hiệu là 1\n",
    "- Người chơi MIN được ký hiệu là -1\n",
    "- Người chơi MAX luôn đi trước\n",
    "2. Hành động (Actions):\n",
    "Tại mỗi lượt người chơi có thể thực hiện 2 loại hành động hợp lệ:\n",
    "- Nước đi bình thường (Drop move):\n",
    "    - Chọn 1 cột chưa đầy\n",
    "    - Đặt một quân của mình vào cột đó, quân sẽ rơi xuống ô trống thấp nhất trong cột\n",
    "    - Ký hiệu hành động (\"drop,c) với c là chỉ số cột\n",
    "- Nước đi ác ý (mean move):\n",
    "    - Chọn một quân của đối thủ nằm ở hàng dưới cùng của một cột bất kỳ\n",
    "    - Lấy quân đó ra, các quân bên trễ sẽ rơi xuống một hàng.\n",
    "    - Sau đó đặt chính quân đó (vẫn của đối thủ) vào bất kỳ cột nào còn chỗ trống\n",
    "    - Ký hiệu hành động (\"move\", from_col, to_col)\n",
    "\n",
    "3. Mô hình chuyển trạng thái (Transition Model):\n",
    "Hàm chiển trạng thái result(s,a) mô tả trạng thái mới sau khi áp dụng hành động a lên trạng thái s.\n",
    "- Nếu a = (\"drop\", c) → chèn quân của người chơi hiện tại vào cột c (ở vị trí thấp nhất còn trống).\n",
    "- Nếu a = (\"move\", from_col, to_col) →\n",
    "    - Lấy quân của đối thủ ở hàng dưới cùng của cột from_col.\n",
    "\n",
    "    - Các quân bên trên rơi xuống một ô.\n",
    "\n",
    "    - Đặt quân đó (vẫn thuộc về đối thủ) vào cột to_col.\n",
    "4. Kiểm tra trạng thái kết thúc (Terminal test)\n",
    "\n",
    "Trạng thái là kết thúc khi:\n",
    "\n",
    "- Một trong hai người chơi có 4 quân liên tiếp (theo hàng ngang, dọc, hoặc chéo), hoặc\n",
    "\n",
    "- Bảng đã đầy (không còn nước đi hợp lệ).\n",
    "5. Hàm lợi ích (Utility function)\n",
    "\n",
    "Hàm utility(s) trả về giá trị từ góc nhìn của người chơi MAX (1):\n",
    "- +1 nếu MAX thắng,\n",
    "- −1 nếu MIN thắng,\n",
    "- 0 nếu hòa.\n",
    "Nếu dùng minimax với giá trị lớn, có thể thay ±1 bằng ±∞ cho các trạng thái thắng/thua."
   ]
  },
  {
   "cell_type": "markdown",
   "metadata": {},
   "source": [
    "How big is the state space? Give an estimate and explain it."
   ]
  },
  {
   "cell_type": "code",
   "execution_count": 2,
   "metadata": {},
   "outputs": [],
   "source": [
    "# Your code/ answer goes here."
   ]
  },
  {
   "cell_type": "markdown",
   "metadata": {},
   "source": [
    "Với trò Connect 4 thông thường, số trạng thái hợp lệ khoảng:\n",
    "4.53 x $10^{12}$\n",
    "(theo nghiên cứu năm 1988).\n",
    "\n",
    "Khi thêm luật “mean move” – cho phép di chuyển đĩa của đối thủ – số trạng thái khả dĩ tăng lên đáng kể, vì có thể tạo ra nhiều cấu hình khác nhau hơn.\n",
    "-> Ước lượng hợp lý: Khoảng $10^{13}$ đến $10^{14}$ trạng thái"
   ]
  },
  {
   "cell_type": "markdown",
   "metadata": {},
   "source": [
    "How big is the game tree that minimax search will go through? Give an estimate and explain it."
   ]
  },
  {
   "cell_type": "code",
   "execution_count": 3,
   "metadata": {},
   "outputs": [],
   "source": [
    "# Your code/ answer goes here."
   ]
  },
  {
   "cell_type": "markdown",
   "metadata": {},
   "source": [
    "Ước lượng kích thước cây trò chơi: (game tree size)\n",
    "Với connect 4 chuẩn, hệ số phân nhánh trung bình b ~7 (7 cột), độ sâu tối da d<= 42 ô\n",
    "Vậy kích thước cây khoảng: $7^{42}$ ≈ $10^{35}$\n",
    "Với luật “mean”, mỗi lượt có thể có đến khoảng 14 hành động (7 nước “drop” + 7 nước “move”).\n",
    "b ≈ 14, d<= 42 -> $14^{42} ≈ 10^{48}$\n",
    "Cây trò chơi quá lớn để duyệt toàn bộ, vì vậy cần dùng thuật toán Minimax với cắt tỉa Alpha–Beta và giới hạn độ sâu để tìm kiếm hiệu quả"
   ]
  },
  {
   "cell_type": "markdown",
   "metadata": {},
   "source": [
    "## Task 2: Game Environment and Random Agent [3 point]\n",
    "\n",
    "You can use a numpy character array as the board. Note that the following function can create boards of different sizes."
   ]
  },
  {
   "cell_type": "code",
   "execution_count": 4,
   "metadata": {},
   "outputs": [
    {
     "name": "stdout",
     "output_type": "stream",
     "text": [
      "[[0 0 0 0 0 0 0]\n",
      " [0 0 0 0 0 0 0]\n",
      " [0 0 0 0 0 0 0]\n",
      " [0 0 0 0 0 0 0]\n",
      " [0 0 0 0 0 0 0]\n",
      " [0 0 0 0 0 0 0]]\n"
     ]
    }
   ],
   "source": [
    "import numpy as np\n",
    "\n",
    "def empty_board(shape=(6, 7)):\n",
    "    return np.full(shape=shape, fill_value=0)\n",
    "\n",
    "print(empty_board())"
   ]
  },
  {
   "cell_type": "markdown",
   "metadata": {},
   "source": [
    "Instead of colors (red and yellow), you can use 1 and -1 to represent the players Max and Min. Make sure that your agent functions all have the from: `agent_type(board, player = 1)`, where board is the current board position and player is the player (1, -1) whose next move it is and who the agent should play."
   ]
  },
  {
   "cell_type": "markdown",
   "metadata": {},
   "source": [
    "Visualization code by Randolph Rankin:"
   ]
  },
  {
   "cell_type": "code",
   "execution_count": 5,
   "metadata": {
    "scrolled": true
   },
   "outputs": [
    {
     "data": {
      "image/png": "[encoded data removed]",
      "text/plain": [
       "<Figure size 640x480 with 1 Axes>"
      ]
     },
     "metadata": {},
     "output_type": "display_data"
    }
   ],
   "source": [
    "import matplotlib.pyplot as plt\n",
    "\n",
    "def visualize(board):\n",
    "    plt.axes()\n",
    "    rectangle=plt.Rectangle((-0.5,len(board)*-1+0.5),len(board[0]),len(board),fc='blue')\n",
    "    circles=[]\n",
    "    for i,row in enumerate(board):\n",
    "        for j,val in enumerate(row):\n",
    "            color='white' if val==0 else 'red' if val==1 else 'yellow'\n",
    "            circles.append(plt.Circle((j,i*-1),0.4,fc=color))\n",
    "\n",
    "    plt.gca().add_patch(rectangle)\n",
    "    for circle in circles:\n",
    "        plt.gca().add_patch(circle)\n",
    "\n",
    "    plt.axis('scaled')\n",
    "    plt.show()\n",
    "    \n",
    "board = [[0, 0, 0, 0, 0, 0, 0],\n",
    "         [0, 0, 0, 0, 0, 0, 0],\n",
    "         [0, 0, 0, 0, 0, 0, 0],\n",
    "         [0, 0, 0, 1, 0, 0, 0],\n",
    "         [0, 0, 0, 1, 0, 0, 0],\n",
    "         [0,-1,-1, 1,-1, 0, 0]]\n",
    "\n",
    "visualize(board)"
   ]
  },
  {
   "cell_type": "markdown",
   "metadata": {},
   "source": [
    "Implement helper functions for:\n",
    "\n",
    "* The transition model $result(s, a)$.\n",
    "* The utility function $utility(s)$.\n",
    "* Check for terminal states $terminal(s)$.\n",
    "* A check for available actions in each state $actions(s)$.\n",
    "\n",
    "Make sure that all these functions work with boards of different sizes (number of columns and rows)."
   ]
  },
  {
   "cell_type": "code",
   "execution_count": 6,
   "metadata": {},
   "outputs": [],
   "source": [
    "# Your code/ answer goes here.\n",
    "def actions(board, player):\n",
    "    actions_list = []\n",
    "    rows, cols = board.shape\n",
    "\n",
    "    # Drop moves\n",
    "    for c in range(cols):\n",
    "        if board[0, c] == 0:  # cột chưa đầy\n",
    "            actions_list.append((\"drop\", c))\n",
    "    \n",
    "    # Mean moves\n",
    "    for from_c in range(cols):\n",
    "        bottom_val = board[rows-1, from_c]\n",
    "        if bottom_val == -player:  # quân đối thủ ở đáy\n",
    "            for to_c in range(cols):\n",
    "                if board[0, to_c] == 0:  # cột đích chưa đầy\n",
    "                    actions_list.append((\"move\", from_c, to_c))\n",
    "    \n",
    "    return actions_list\n",
    "def result(board, action, player):\n",
    "    new_board = board.copy()\n",
    "    rows, cols = board.shape\n",
    "    \n",
    "    if action[0] == \"drop\":\n",
    "        c = action[1]\n",
    "        for r in range(rows-1, -1, -1):\n",
    "            if new_board[r, c] == 0:\n",
    "                new_board[r, c] = player\n",
    "                break\n",
    "\n",
    "    elif action[0] == \"move\":\n",
    "        from_c, to_c = action[1], action[2]\n",
    "        # Lấy quân đối thủ ở đáy\n",
    "        opp_piece = new_board[rows-1, from_c]\n",
    "        if opp_piece != -player:\n",
    "            raise ValueError(\"Không thể di chuyển cột này.\")\n",
    "        # Dịch quân bên trên xuống\n",
    "        for r in range(rows-1, 0, -1):\n",
    "            new_board[r, from_c] = new_board[r-1, from_c]\n",
    "        new_board[0, from_c] = 0\n",
    "        # Đặt quân đối thủ vào cột đích\n",
    "        for r in range(rows-1, -1, -1):\n",
    "            if new_board[r, to_c] == 0:\n",
    "                new_board[r, to_c] = opp_piece\n",
    "                break\n",
    "\n",
    "    return new_board\n",
    "def check_four(board, player):\n",
    "    rows, cols = board.shape\n",
    "    \n",
    "    # Kiểm tra ngang\n",
    "    for r in range(rows):\n",
    "        for c in range(cols - 3):\n",
    "            if all(board[r, c+i] == player for i in range(4)):\n",
    "                return True\n",
    "    # Kiểm tra dọc\n",
    "    for c in range(cols):\n",
    "        for r in range(rows - 3):\n",
    "            if all(board[r+i, c] == player for i in range(4)):\n",
    "                return True\n",
    "    # Kiểm tra chéo xuống\n",
    "    for r in range(rows - 3):\n",
    "        for c in range(cols - 3):\n",
    "            if all(board[r+i, c+i] == player for i in range(4)):\n",
    "                return True\n",
    "    # Kiểm tra chéo lên\n",
    "    for r in range(3, rows):\n",
    "        for c in range(cols - 3):\n",
    "            if all(board[r-i, c+i] == player for i in range(4)):\n",
    "                return True\n",
    "    return False\n",
    "\n",
    "\n",
    "def terminal(board):\n",
    "    if check_four(board, 1) or check_four(board, -1):\n",
    "        return True\n",
    "    if not any(board[0, c] == 0 for c in range(board.shape[1])):  # full board\n",
    "        return True\n",
    "    return False\n",
    "def utility(board):\n",
    "    if check_four(board, 1):\n",
    "        return 1\n",
    "    elif check_four(board, -1):\n",
    "        return -1\n",
    "    else:\n",
    "        return 0\n"
   ]
  },
  {
   "cell_type": "markdown",
   "metadata": {},
   "source": [
    "Implement an agent that plays randomly. Make sure the agent function receives as the percept the board and returns a valid action. Use an agent function definition with the following signature (arguments):\n",
    "\n",
    "`def random_player(board, player = None): ...`\n",
    "\n",
    "The argument `player` is used for agents that do not store what side they are playing. The value passed on bt yhe environment should be 1 ot -1 for playerred and yellow, respectively.  See [Experiments section for tic-tac-toe](https://nbviewer.org/github/mhahsler/CS7320-AI/blob/master/Games/tictactoe_and_or_tree_search.ipynb#Experiments) for an example."
   ]
  },
  {
   "cell_type": "code",
   "execution_count": 7,
   "metadata": {},
   "outputs": [],
   "source": [
    "# Your code/ answer goes here.\n",
    "import random\n",
    "\n",
    "def random_player(board, player=1):\n",
    "    possible_actions = actions(board, player)\n",
    "    return random.choice(possible_actions)"
   ]
  },
  {
   "cell_type": "markdown",
   "metadata": {},
   "source": [
    "Let two random agents play against each other 1000 times. Look at the [Experiments section for tic-tac-toe](https://nbviewer.org/github/mhahsler/CS7320-AI/blob/master/Games/tictactoe_and_or_tree_search.ipynb#Experiments) to see how the environment uses the agent functions to play against each other.\n",
    "\n",
    "How often does each player win? Is the result expected?"
   ]
  },
  {
   "cell_type": "code",
   "execution_count": 8,
   "metadata": {
    "tags": []
   },
   "outputs": [
    {
     "name": "stdout",
     "output_type": "stream",
     "text": [
      "{1: 82, -1: 18, 0: 0}\n"
     ]
    }
   ],
   "source": [
    "# Your code/ answer goes here.\n",
    "def play_game(agent1, agent2, shape=(6,7)):\n",
    "    board = empty_board(shape)\n",
    "    player = 1\n",
    "    while not terminal(board):\n",
    "        if player == 1:\n",
    "            action = agent1(board, player)\n",
    "        else:\n",
    "            action = agent2(board, player)\n",
    "        board = result(board, action, player)\n",
    "        player *= -1\n",
    "    return utility(board)\n",
    "\n",
    "def simulate_random_games(n=1000):\n",
    "    results = {1:0, -1:0, 0:0}\n",
    "    for _ in range(n):\n",
    "        u = play_game(random_player, random_player)\n",
    "        results[u] += 1\n",
    "    return results\n",
    "\n",
    "print(simulate_random_games(100))"
   ]
  },
  {
   "cell_type": "markdown",
   "metadata": {},
   "source": [
    "## Task 3: Minimax Search with Alpha-Beta Pruning [3 points]\n",
    "\n",
    "### Implement the search starting.\n",
    "\n",
    "Implement the search starting from a given board and specifying the player and put it into an agent function.\n",
    "You can use code from the [tic-tac-toe example](https://nbviewer.org/github/mhahsler/CS7320-AI/blob/master/Games/tictactoe_alpha_beta_tree_search.ipynb).\n",
    "\n",
    "__Notes:__ \n",
    "* Make sure that all your agent functions have a signature consistent with the random agent above.\n",
    "* The search space for a $6 \\times 7$ board is large. You can experiment with smaller boards (the smallest is $4 \\times 4$) and/or changing the winning rule to connect 3 instead of 4."
   ]
  },
  {
   "cell_type": "code",
   "execution_count": 9,
   "metadata": {},
   "outputs": [],
   "source": [
    "# Your code/ answer goes here."
   ]
  },
  {
   "cell_type": "markdown",
   "metadata": {},
   "source": [
    "Experiment with some manually created boards (at least 5) to check if the agent spots winning opportunities."
   ]
  },
  {
   "cell_type": "code",
   "execution_count": 10,
   "metadata": {},
   "outputs": [],
   "source": [
    "# Your code/ answer goes here."
   ]
  },
  {
   "cell_type": "markdown",
   "metadata": {},
   "source": [
    "How long does it take to make a move? Start with a smaller board with 4 columns and make the board larger by adding columns."
   ]
  },
  {
   "cell_type": "code",
   "execution_count": 11,
   "metadata": {},
   "outputs": [],
   "source": [
    "# Your code/ answer goes here."
   ]
  },
  {
   "cell_type": "markdown",
   "metadata": {},
   "source": [
    "### Move ordering\n",
    "\n",
    "Starting the search with better moves will increase the efficiency of alpha-beta pruning. Describe and implement a simple move ordering strategy. Make a table that shows how the ordering strategies influence the time it takes to make a move?"
   ]
  },
  {
   "cell_type": "code",
   "execution_count": 12,
   "metadata": {},
   "outputs": [],
   "source": [
    "# Your code/ answer goes here."
   ]
  },
  {
   "cell_type": "markdown",
   "metadata": {},
   "source": [
    "### The first few moves\n",
    "\n",
    "Start with an empty board. This is the worst case scenario for minimax search with alpha-beta pruning since it needs solve all possible games that can be played (minus some pruning) before making the decision. What can you do? "
   ]
  },
  {
   "cell_type": "code",
   "execution_count": 13,
   "metadata": {},
   "outputs": [],
   "source": [
    "# Your code/ answer goes here."
   ]
  },
  {
   "cell_type": "markdown",
   "metadata": {},
   "source": [
    "### Playtime\n",
    "\n",
    "Let the Minimax Search agent play a random agent on a small board. Analyze wins, losses and draws."
   ]
  },
  {
   "cell_type": "code",
   "execution_count": 14,
   "metadata": {},
   "outputs": [],
   "source": [
    "# Your code/ answer goes here."
   ]
  },
  {
   "cell_type": "markdown",
   "metadata": {},
   "source": [
    "## Task 4: Heuristic Alpha-Beta Tree Search [3 points] \n",
    "\n",
    "### Heuristic evaluation function\n",
    "\n",
    "Define and implement a heuristic evaluation function."
   ]
  },
  {
   "cell_type": "code",
   "execution_count": 15,
   "metadata": {},
   "outputs": [],
   "source": [
    "# Your code/ answer goes here."
   ]
  },
  {
   "cell_type": "markdown",
   "metadata": {},
   "source": [
    "### Cutting off search \n",
    "\n",
    "Modify your Minimax Search with Alpha-Beta Pruning to cut off search at a specified depth and use the heuristic evaluation function. Experiment with different cutoff values."
   ]
  },
  {
   "cell_type": "code",
   "execution_count": 16,
   "metadata": {},
   "outputs": [],
   "source": [
    "# Your code/ answer goes here."
   ]
  },
  {
   "cell_type": "markdown",
   "metadata": {},
   "source": [
    "Experiment with the same manually created boards as above to check if the agent spots winning opportunities."
   ]
  },
  {
   "cell_type": "code",
   "execution_count": 17,
   "metadata": {},
   "outputs": [],
   "source": [
    "# Your code/ answer goes here."
   ]
  },
  {
   "cell_type": "markdown",
   "metadata": {},
   "source": [
    "How long does it take to make a move? Start with a smaller board with 4 columns and make the board larger by adding columns."
   ]
  },
  {
   "cell_type": "code",
   "execution_count": 18,
   "metadata": {},
   "outputs": [],
   "source": [
    "# Your code/ answer goes here."
   ]
  },
  {
   "cell_type": "markdown",
   "metadata": {},
   "source": [
    "### Playtime\n",
    "\n",
    "Let two heuristic search agents (different cutoff depth, different heuristic evaluation function) compete against each other on a reasonably sized board. Since there is no randomness, you only need to let them play once."
   ]
  },
  {
   "cell_type": "code",
   "execution_count": 19,
   "metadata": {},
   "outputs": [],
   "source": [
    "# Your code/ answer goes here."
   ]
  },
  {
   "cell_type": "markdown",
   "metadata": {},
   "source": [
    "## Tournament task [+ 1 to 5 bonus point will be assigned separately]\n",
    "\n",
    "Find another student and let your best agent play against the other student's best player. You are allowed to use any improvements you like as long as you code it yourself. We will set up a class tournament on Canvas. This tournament will continue after the submission deadline."
   ]
  },
  {
   "cell_type": "markdown",
   "metadata": {},
   "source": [
    "## Graduate student advanced task: Pure Monte Carlo Search and Best First Move [1 point]\n",
    "\n",
    "__Undergraduate students:__ This is a bonus task you can attempt if you like [+1 Bonus point].\n",
    "\n",
    "### Pure Monte Carlo Search\n",
    "\n",
    "Implement Pure Monte Carlo Search (see [tic-tac-toe-example](https://nbviewer.org/github/mhahsler/CS7320-AI/blob/master/Games/tictactoe_pure_monte_carlo_search.ipynb)) and investigate how this search performs on the test boards that you have used above. "
   ]
  },
  {
   "cell_type": "code",
   "execution_count": 20,
   "metadata": {},
   "outputs": [],
   "source": [
    "# Your code/ answer goes here."
   ]
  },
  {
   "cell_type": "markdown",
   "metadata": {},
   "source": [
    "### Best First Move\n",
    "\n",
    "How would you determine what the best first move for a standard board ($6 \\times 7$) is? You can use Pure Monte Carlo Search or any algorithms that you have implemented above."
   ]
  },
  {
   "cell_type": "code",
   "execution_count": 21,
   "metadata": {},
   "outputs": [],
   "source": [
    "# Your code/ answer goes here."
   ]
  }
 ],
 "metadata": {
  "kernelspec": {
   "display_name": "base",
   "language": "python",
   "name": "python3"
  },
  "language_info": {
   "codemirror_mode": {
    "name": "ipython",
    "version": 3
   },
   "file_extension": ".py",
   "mimetype": "text/x-python",
   "name": "python",
   "nbconvert_exporter": "python",
   "pygments_lexer": "ipython3",
   "version": "3.13.5"
  }
 },
 "nbformat": 4,
 "nbformat_minor": 4
}
